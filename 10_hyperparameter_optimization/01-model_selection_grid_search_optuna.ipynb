{
 "cells": [
  {
   "cell_type": "markdown",
   "metadata": {},
   "source": [
    "# Efficient hyperparameter search with GridSearchCV and optuna\n",
    "\n",
    "```\n",
    "Authors: Alexandre Gramfort\n",
    "         Thomas Moreau\n",
    "```\n",
    "\n",
    "adapted from the work of Olivier Grisel and Andreas Mueller."
   ]
  },
  {
   "cell_type": "code",
   "execution_count": 1,
   "metadata": {},
   "outputs": [],
   "source": [
    "%matplotlib inline\n",
    "import numpy as np\n",
    "import matplotlib.pyplot as plt"
   ]
  },
  {
   "cell_type": "markdown",
   "metadata": {},
   "source": [
    "Most models have hyperparameters that influence how complex functions they can learn. Think the depth of a decision tree."
   ]
  },
  {
   "cell_type": "markdown",
   "metadata": {},
   "source": [
    "<img src=\"figures/overfitting_underfitting_cartoon.svg\" width=\"60%\">"
   ]
  },
  {
   "cell_type": "markdown",
   "metadata": {},
   "source": [
    "## Hyperparameters, Over-fitting, and Under-fitting\n",
    "\n",
    "Unfortunately, there is no general rule how to find the sweet spot, and so machine learning practitioners have to find the best trade-off of model-complexity and generalization by trying several hyperparameter settings. Hyperparameters are the internal knobs or tuning parameters of a machine learning algorithm (in contrast to model parameters that the algorithm learns from the training data -- for example, the weight coefficients of a linear regression model); the depth of a decision tree or the number of trees in a gradient boosting are such hyperparameters.\n",
    "\n",
    "Most commonly this \"hyperparameter tuning\" is done using a brute force search, for example over multiple values of ``max_depth``:"
   ]
  },
  {
   "cell_type": "code",
   "execution_count": 2,
   "metadata": {},
   "outputs": [
    {
     "name": "stdout",
     "output_type": "stream",
     "text": [
      "Loading data...\n",
      "max_depth: 1, average score: 0.041434776747087156\n",
      "max_depth: 3, average score: 0.0998374290737992\n",
      "max_depth: 5, average score: 0.11712026346670061\n",
      "max_depth: 10, average score: -0.12572533845684836\n",
      "max_depth: 20, average score: -0.5176531946576446\n"
     ]
    }
   ],
   "source": [
    "import pandas as pd\n",
    "\n",
    "from sklearn.model_selection import cross_val_score, KFold\n",
    "from sklearn.tree import DecisionTreeRegressor\n",
    "\n",
    "print('Loading data...')\n",
    "# load or create your dataset\n",
    "df_train = pd.read_csv('datasets/regression.train', header=None, sep='\\t')\n",
    "df_test = pd.read_csv('datasets/regression.test', header=None, sep='\\t')\n",
    "\n",
    "df = pd.concat([df_train, df_test], axis=0)\n",
    "y = df[0].values\n",
    "X = df.drop(0, axis=1).values\n",
    "\n",
    "cv = KFold(shuffle=True, n_splits=5, random_state=42)\n",
    "\n",
    "reg = DecisionTreeRegressor()\n",
    "\n",
    "# for each parameter setting do cross-validation:\n",
    "for max_depth in [1, 3, 5, 10, 20]:\n",
    "    reg.set_params(max_depth=max_depth)\n",
    "    scores = cross_val_score(reg, X, y, cv=cv, scoring=\"r2\")\n",
    "    print(f\"max_depth: {max_depth}, average score: {np.mean(scores)}\")"
   ]
  },
  {
   "cell_type": "markdown",
   "metadata": {},
   "source": [
    "There is a function in scikit-learn, called ``validation_plot`` to reproduce the cartoon figure above. It plots one parameter, such as the number of neighbors, against training and validation error (using cross-validation):"
   ]
  },
  {
   "cell_type": "code",
   "execution_count": 3,
   "metadata": {},
   "outputs": [
    {
     "data": {
      "image/png": "[encoded data removed]",
      "text/plain": [
       "<Figure size 432x288 with 1 Axes>"
      ]
     },
     "metadata": {
      "needs_background": "light"
     },
     "output_type": "display_data"
    }
   ],
   "source": [
    "from sklearn.model_selection import validation_curve\n",
    "\n",
    "max_depth = [1, 2, 3, 4, 5, 6, 7]\n",
    "    \n",
    "train_scores, test_scores = validation_curve(\n",
    "    reg, X, y, param_name=\"max_depth\",\n",
    "    param_range=max_depth, cv=cv,\n",
    "    scoring=\"r2\"\n",
    ")\n",
    "plt.plot(max_depth, train_scores.mean(axis=1), label=\"train R2\")\n",
    "plt.plot(max_depth, test_scores.mean(axis=1), label=\"test R2\")\n",
    "plt.ylabel('R2')\n",
    "plt.xlabel('Tree depth')\n",
    "plt.xlim([1, max(max_depth)])\n",
    "plt.legend(loc=\"best\");"
   ]
  },
  {
   "cell_type": "markdown",
   "metadata": {},
   "source": [
    "To automate hyperparameter search there is a built-in class in scikit-learn, ``GridSearchCV``. ``GridSearchCV`` takes a dictionary that describes the parameters that should be tried and a model to train.\n",
    "\n",
    "The grid of parameters is defined as a dictionary, where the keys are the parameters and the values are the settings to be tested.\n",
    "\n",
    "To inspect training score on the different folds, the parameter ``return_train_score`` is set to ``True``."
   ]
  },
  {
   "cell_type": "code",
   "execution_count": 4,
   "metadata": {},
   "outputs": [],
   "source": [
    "from sklearn.model_selection import GridSearchCV\n",
    "param_grid = {'max_depth': max_depth}\n",
    "\n",
    "grid = GridSearchCV(DecisionTreeRegressor(), param_grid=param_grid,\n",
    "                    cv=cv, verbose=3,\n",
    "                    return_train_score=True, n_jobs=-1)"
   ]
  },
  {
   "cell_type": "markdown",
   "metadata": {},
   "source": [
    "One of the great things about GridSearchCV is that it is a *meta-estimator*. It takes an estimator like `DecisionTreeRegressor` above, and creates a new estimator, that behaves exactly the same - in this case, like a regressor.\n",
    "So we can call ``fit`` on it, to train it:"
   ]
  },
  {
   "cell_type": "code",
   "execution_count": 5,
   "metadata": {
    "scrolled": true
   },
   "outputs": [
    {
     "name": "stdout",
     "output_type": "stream",
     "text": [
      "Fitting 5 folds for each of 7 candidates, totalling 35 fits\n"
     ]
    },
    {
     "data": {
      "text/plain": [
       "GridSearchCV(cv=KFold(n_splits=5, random_state=42, shuffle=True),\n",
       "             estimator=DecisionTreeRegressor(), n_jobs=-1,\n",
       "             param_grid={'max_depth': [1, 2, 3, 4, 5, 6, 7]},\n",
       "             return_train_score=True, verbose=3)"
      ]
     },
     "execution_count": 5,
     "metadata": {},
     "output_type": "execute_result"
    }
   ],
   "source": [
    "grid.fit(X, y)"
   ]
  },
  {
   "cell_type": "markdown",
   "metadata": {},
   "source": [
    "What ``fit`` does is a bit more involved then what we did above. First, it runs the same loop with cross-validation, to find the best parameter combination.\n",
    "Once it has the best combination, it runs fit again on all data passed to fit (without cross-validation), to built a single new model using the best parameter setting."
   ]
  },
  {
   "cell_type": "markdown",
   "metadata": {},
   "source": [
    "Then, as with all models, we can use ``predict`` or ``score``:\n"
   ]
  },
  {
   "cell_type": "code",
   "execution_count": 6,
   "metadata": {},
   "outputs": [
    {
     "data": {
      "text/plain": [
       "array([0.8697479 , 0.8697479 , 0.68272425, ..., 0.61587302, 0.28220859,\n",
       "       0.51453488])"
      ]
     },
     "execution_count": 6,
     "metadata": {},
     "output_type": "execute_result"
    }
   ],
   "source": [
    "grid.predict(X)"
   ]
  },
  {
   "cell_type": "markdown",
   "metadata": {},
   "source": [
    "You can inspect the best parameters found by ``GridSearchCV`` in the ``best_params_`` attribute, and the best score in the ``best_score_`` attribute:"
   ]
  },
  {
   "cell_type": "code",
   "execution_count": 7,
   "metadata": {},
   "outputs": [
    {
     "name": "stdout",
     "output_type": "stream",
     "text": [
      "0.11694942185822688\n"
     ]
    }
   ],
   "source": [
    "print(grid.best_score_)"
   ]
  },
  {
   "cell_type": "code",
   "execution_count": 8,
   "metadata": {},
   "outputs": [
    {
     "name": "stdout",
     "output_type": "stream",
     "text": [
      "{'max_depth': 5}\n"
     ]
    }
   ],
   "source": [
    "print(grid.best_params_)"
   ]
  },
  {
   "cell_type": "markdown",
   "metadata": {},
   "source": [
    "But you can investigate the performance and much more for each set of parameter values by accessing the `cv_results_` attributes. The `cv_results_` attribute is a dictionary where each key is a string and each value is array. It can therefore be used to make a pandas DataFrame."
   ]
  },
  {
   "cell_type": "code",
   "execution_count": 9,
   "metadata": {},
   "outputs": [
    {
     "data": {
      "text/plain": [
       "dict"
      ]
     },
     "execution_count": 9,
     "metadata": {},
     "output_type": "execute_result"
    }
   ],
   "source": [
    "type(grid.cv_results_)"
   ]
  },
  {
   "cell_type": "code",
   "execution_count": 10,
   "metadata": {},
   "outputs": [
    {
     "name": "stdout",
     "output_type": "stream",
     "text": [
      "dict_keys(['mean_fit_time', 'std_fit_time', 'mean_score_time', 'std_score_time', 'param_max_depth', 'params', 'split0_test_score', 'split1_test_score', 'split2_test_score', 'split3_test_score', 'split4_test_score', 'mean_test_score', 'std_test_score', 'rank_test_score', 'split0_train_score', 'split1_train_score', 'split2_train_score', 'split3_train_score', 'split4_train_score', 'mean_train_score', 'std_train_score'])\n"
     ]
    }
   ],
   "source": [
    "print(grid.cv_results_.keys())"
   ]
  },
  {
   "cell_type": "code",
   "execution_count": 11,
   "metadata": {},
   "outputs": [
    {
     "data": {
      "text/html": [
       "<div>\n",
       "<style scoped>\n",
       "    .dataframe tbody tr th:only-of-type {\n",
       "        vertical-align: middle;\n",
       "    }\n",
       "\n",
       "    .dataframe tbody tr th {\n",
       "        vertical-align: top;\n",
       "    }\n",
       "\n",
       "    .dataframe thead th {\n",
       "        text-align: right;\n",
       "    }\n",
       "</style>\n",
       "<table border=\"1\" class=\"dataframe\">\n",
       "  <thead>\n",
       "    <tr style=\"text-align: right;\">\n",
       "      <th></th>\n",
       "      <th>mean_fit_time</th>\n",
       "      <th>std_fit_time</th>\n",
       "      <th>mean_score_time</th>\n",
       "      <th>std_score_time</th>\n",
       "      <th>param_max_depth</th>\n",
       "      <th>params</th>\n",
       "      <th>split0_test_score</th>\n",
       "      <th>split1_test_score</th>\n",
       "      <th>split2_test_score</th>\n",
       "      <th>split3_test_score</th>\n",
       "      <th>...</th>\n",
       "      <th>mean_test_score</th>\n",
       "      <th>std_test_score</th>\n",
       "      <th>rank_test_score</th>\n",
       "      <th>split0_train_score</th>\n",
       "      <th>split1_train_score</th>\n",
       "      <th>split2_train_score</th>\n",
       "      <th>split3_train_score</th>\n",
       "      <th>split4_train_score</th>\n",
       "      <th>mean_train_score</th>\n",
       "      <th>std_train_score</th>\n",
       "    </tr>\n",
       "  </thead>\n",
       "  <tbody>\n",
       "    <tr>\n",
       "      <th>0</th>\n",
       "      <td>0.022415</td>\n",
       "      <td>0.002915</td>\n",
       "      <td>0.001303</td>\n",
       "      <td>0.000422</td>\n",
       "      <td>1</td>\n",
       "      <td>{'max_depth': 1}</td>\n",
       "      <td>0.037408</td>\n",
       "      <td>0.059269</td>\n",
       "      <td>0.022200</td>\n",
       "      <td>0.041881</td>\n",
       "      <td>...</td>\n",
       "      <td>0.041435</td>\n",
       "      <td>0.012077</td>\n",
       "      <td>7</td>\n",
       "      <td>0.048678</td>\n",
       "      <td>0.042985</td>\n",
       "      <td>0.052221</td>\n",
       "      <td>0.047135</td>\n",
       "      <td>0.046596</td>\n",
       "      <td>0.047523</td>\n",
       "      <td>0.003000</td>\n",
       "    </tr>\n",
       "    <tr>\n",
       "      <th>1</th>\n",
       "      <td>0.057010</td>\n",
       "      <td>0.007008</td>\n",
       "      <td>0.001052</td>\n",
       "      <td>0.000149</td>\n",
       "      <td>2</td>\n",
       "      <td>{'max_depth': 2}</td>\n",
       "      <td>0.067777</td>\n",
       "      <td>0.108785</td>\n",
       "      <td>0.055390</td>\n",
       "      <td>0.052709</td>\n",
       "      <td>...</td>\n",
       "      <td>0.073139</td>\n",
       "      <td>0.020465</td>\n",
       "      <td>6</td>\n",
       "      <td>0.082155</td>\n",
       "      <td>0.083899</td>\n",
       "      <td>0.087353</td>\n",
       "      <td>0.082700</td>\n",
       "      <td>0.090348</td>\n",
       "      <td>0.085291</td>\n",
       "      <td>0.003108</td>\n",
       "    </tr>\n",
       "    <tr>\n",
       "      <th>2</th>\n",
       "      <td>0.091170</td>\n",
       "      <td>0.010325</td>\n",
       "      <td>0.001172</td>\n",
       "      <td>0.000253</td>\n",
       "      <td>3</td>\n",
       "      <td>{'max_depth': 3}</td>\n",
       "      <td>0.091159</td>\n",
       "      <td>0.134029</td>\n",
       "      <td>0.097577</td>\n",
       "      <td>0.056400</td>\n",
       "      <td>...</td>\n",
       "      <td>0.099837</td>\n",
       "      <td>0.026622</td>\n",
       "      <td>4</td>\n",
       "      <td>0.122633</td>\n",
       "      <td>0.120839</td>\n",
       "      <td>0.131610</td>\n",
       "      <td>0.114817</td>\n",
       "      <td>0.123688</td>\n",
       "      <td>0.122717</td>\n",
       "      <td>0.005403</td>\n",
       "    </tr>\n",
       "    <tr>\n",
       "      <th>3</th>\n",
       "      <td>0.088988</td>\n",
       "      <td>0.007575</td>\n",
       "      <td>0.001216</td>\n",
       "      <td>0.000203</td>\n",
       "      <td>4</td>\n",
       "      <td>{'max_depth': 4}</td>\n",
       "      <td>0.095534</td>\n",
       "      <td>0.154370</td>\n",
       "      <td>0.107212</td>\n",
       "      <td>0.065095</td>\n",
       "      <td>...</td>\n",
       "      <td>0.113183</td>\n",
       "      <td>0.032519</td>\n",
       "      <td>2</td>\n",
       "      <td>0.162374</td>\n",
       "      <td>0.164971</td>\n",
       "      <td>0.164933</td>\n",
       "      <td>0.160026</td>\n",
       "      <td>0.164627</td>\n",
       "      <td>0.163386</td>\n",
       "      <td>0.001937</td>\n",
       "    </tr>\n",
       "    <tr>\n",
       "      <th>4</th>\n",
       "      <td>0.116353</td>\n",
       "      <td>0.006436</td>\n",
       "      <td>0.005561</td>\n",
       "      <td>0.005793</td>\n",
       "      <td>5</td>\n",
       "      <td>{'max_depth': 5}</td>\n",
       "      <td>0.113616</td>\n",
       "      <td>0.144012</td>\n",
       "      <td>0.087920</td>\n",
       "      <td>0.099055</td>\n",
       "      <td>...</td>\n",
       "      <td>0.116949</td>\n",
       "      <td>0.022111</td>\n",
       "      <td>1</td>\n",
       "      <td>0.208677</td>\n",
       "      <td>0.206199</td>\n",
       "      <td>0.206271</td>\n",
       "      <td>0.201842</td>\n",
       "      <td>0.208971</td>\n",
       "      <td>0.206392</td>\n",
       "      <td>0.002555</td>\n",
       "    </tr>\n",
       "  </tbody>\n",
       "</table>\n",
       "<p>5 rows × 21 columns</p>\n",
       "</div>"
      ],
      "text/plain": [
       "   mean_fit_time  std_fit_time  mean_score_time  std_score_time  \\\n",
       "0       0.022415      0.002915         0.001303        0.000422   \n",
       "1       0.057010      0.007008         0.001052        0.000149   \n",
       "2       0.091170      0.010325         0.001172        0.000253   \n",
       "3       0.088988      0.007575         0.001216        0.000203   \n",
       "4       0.116353      0.006436         0.005561        0.005793   \n",
       "\n",
       "  param_max_depth            params  split0_test_score  split1_test_score  \\\n",
       "0               1  {'max_depth': 1}           0.037408           0.059269   \n",
       "1               2  {'max_depth': 2}           0.067777           0.108785   \n",
       "2               3  {'max_depth': 3}           0.091159           0.134029   \n",
       "3               4  {'max_depth': 4}           0.095534           0.154370   \n",
       "4               5  {'max_depth': 5}           0.113616           0.144012   \n",
       "\n",
       "   split2_test_score  split3_test_score  ...  mean_test_score  std_test_score  \\\n",
       "0           0.022200           0.041881  ...         0.041435        0.012077   \n",
       "1           0.055390           0.052709  ...         0.073139        0.020465   \n",
       "2           0.097577           0.056400  ...         0.099837        0.026622   \n",
       "3           0.107212           0.065095  ...         0.113183        0.032519   \n",
       "4           0.087920           0.099055  ...         0.116949        0.022111   \n",
       "\n",
       "   rank_test_score  split0_train_score  split1_train_score  \\\n",
       "0                7            0.048678            0.042985   \n",
       "1                6            0.082155            0.083899   \n",
       "2                4            0.122633            0.120839   \n",
       "3                2            0.162374            0.164971   \n",
       "4                1            0.208677            0.206199   \n",
       "\n",
       "   split2_train_score  split3_train_score  split4_train_score  \\\n",
       "0            0.052221            0.047135            0.046596   \n",
       "1            0.087353            0.082700            0.090348   \n",
       "2            0.131610            0.114817            0.123688   \n",
       "3            0.164933            0.160026            0.164627   \n",
       "4            0.206271            0.201842            0.208971   \n",
       "\n",
       "   mean_train_score  std_train_score  \n",
       "0          0.047523         0.003000  \n",
       "1          0.085291         0.003108  \n",
       "2          0.122717         0.005403  \n",
       "3          0.163386         0.001937  \n",
       "4          0.206392         0.002555  \n",
       "\n",
       "[5 rows x 21 columns]"
      ]
     },
     "execution_count": 11,
     "metadata": {},
     "output_type": "execute_result"
    }
   ],
   "source": [
    "import pandas as pd\n",
    "\n",
    "cv_results = pd.DataFrame(grid.cv_results_)\n",
    "cv_results.head()"
   ]
  },
  {
   "cell_type": "code",
   "execution_count": 12,
   "metadata": {},
   "outputs": [
    {
     "data": {
      "text/html": [
       "<div>\n",
       "<style scoped>\n",
       "    .dataframe tbody tr th:only-of-type {\n",
       "        vertical-align: middle;\n",
       "    }\n",
       "\n",
       "    .dataframe tbody tr th {\n",
       "        vertical-align: top;\n",
       "    }\n",
       "\n",
       "    .dataframe thead th {\n",
       "        text-align: right;\n",
       "    }\n",
       "</style>\n",
       "<table border=\"1\" class=\"dataframe\">\n",
       "  <thead>\n",
       "    <tr style=\"text-align: right;\">\n",
       "      <th></th>\n",
       "      <th>param_max_depth</th>\n",
       "      <th>mean_test_score</th>\n",
       "    </tr>\n",
       "  </thead>\n",
       "  <tbody>\n",
       "    <tr>\n",
       "      <th>4</th>\n",
       "      <td>5</td>\n",
       "      <td>0.116949</td>\n",
       "    </tr>\n",
       "    <tr>\n",
       "      <th>3</th>\n",
       "      <td>4</td>\n",
       "      <td>0.113183</td>\n",
       "    </tr>\n",
       "    <tr>\n",
       "      <th>5</th>\n",
       "      <td>6</td>\n",
       "      <td>0.109329</td>\n",
       "    </tr>\n",
       "    <tr>\n",
       "      <th>2</th>\n",
       "      <td>3</td>\n",
       "      <td>0.099837</td>\n",
       "    </tr>\n",
       "    <tr>\n",
       "      <th>6</th>\n",
       "      <td>7</td>\n",
       "      <td>0.084942</td>\n",
       "    </tr>\n",
       "  </tbody>\n",
       "</table>\n",
       "</div>"
      ],
      "text/plain": [
       "  param_max_depth  mean_test_score\n",
       "4               5         0.116949\n",
       "3               4         0.113183\n",
       "5               6         0.109329\n",
       "2               3         0.099837\n",
       "6               7         0.084942"
      ]
     },
     "execution_count": 12,
     "metadata": {},
     "output_type": "execute_result"
    }
   ],
   "source": [
    "cv_results_tiny = cv_results[['param_max_depth', 'mean_test_score']]\n",
    "cv_results_tiny.sort_values(by='mean_test_score', ascending=False).head()"
   ]
  },
  {
   "cell_type": "markdown",
   "metadata": {},
   "source": [
    "There is a problem with using this score for evaluation, however. You might be making what is called a **multiple hypothesis testing error**. If you try very many parameter settings, some of them will work better just by chance, and the score that you obtained might not reflect how your model would perform on new unseen data.\n",
    "Therefore, it is good to split off a separate test-set before performing grid-search. This pattern can be seen as a training-validation-test split, and is common in machine learning:"
   ]
  },
  {
   "cell_type": "markdown",
   "metadata": {},
   "source": [
    "<img src=\"figures/grid_search_cross_validation.svg\" width=\"70%\">"
   ]
  },
  {
   "cell_type": "markdown",
   "metadata": {},
   "source": [
    "We can do this very easily by splitting of some test data using ``train_test_split``, training ``GridSearchCV`` on the training set, and applying the ``score`` method to the test set:"
   ]
  },
  {
   "cell_type": "code",
   "execution_count": 13,
   "metadata": {},
   "outputs": [
    {
     "data": {
      "text/plain": [
       "0.11664703063072346"
      ]
     },
     "execution_count": 13,
     "metadata": {},
     "output_type": "execute_result"
    }
   ],
   "source": [
    "from sklearn.model_selection import train_test_split\n",
    "X_train, X_test, y_train, y_test = train_test_split(X, y, random_state=1)\n",
    "\n",
    "param_grid = {'max_depth': max_depth}\n",
    "cv = KFold(n_splits=10, shuffle=True)\n",
    "\n",
    "grid = GridSearchCV(DecisionTreeRegressor(), param_grid=param_grid, cv=cv)\n",
    "\n",
    "grid.fit(X_train, y_train)\n",
    "grid.score(X_test, y_test)"
   ]
  },
  {
   "cell_type": "markdown",
   "metadata": {},
   "source": [
    "We can also look at the parameters that were selected:"
   ]
  },
  {
   "cell_type": "code",
   "execution_count": 14,
   "metadata": {},
   "outputs": [
    {
     "data": {
      "text/plain": [
       "{'max_depth': 5}"
      ]
     },
     "execution_count": 14,
     "metadata": {},
     "output_type": "execute_result"
    }
   ],
   "source": [
    "grid.best_params_"
   ]
  },
  {
   "cell_type": "markdown",
   "metadata": {},
   "source": [
    "Some practitioners go for an easier scheme, splitting the data simply into three parts, training, validation and testing. This is a possible alternative if your training set is very large, or it is infeasible to train many models using cross-validation because training a model takes very long.\n",
    "You can do this with scikit-learn for example by splitting of a test-set and then applying GridSearchCV with ShuffleSplit cross-validation with a single iteration:\n",
    "\n",
    "<img src=\"figures/train_validation_test2.svg\" width=\"60%\">"
   ]
  },
  {
   "cell_type": "code",
   "execution_count": 15,
   "metadata": {
    "scrolled": true
   },
   "outputs": [
    {
     "name": "stdout",
     "output_type": "stream",
     "text": [
      "Fitting 1 folds for each of 7 candidates, totalling 7 fits\n",
      "[CV 1/1] END .......................max_depth=1;, score=0.018 total time=   0.0s\n",
      "[CV 1/1] END .......................max_depth=2;, score=0.040 total time=   0.0s\n",
      "[CV 1/1] END .......................max_depth=3;, score=0.044 total time=   0.0s\n",
      "[CV 1/1] END .......................max_depth=4;, score=0.071 total time=   0.0s\n",
      "[CV 1/1] END .......................max_depth=5;, score=0.085 total time=   0.0s\n",
      "[CV 1/1] END .......................max_depth=6;, score=0.081 total time=   0.0s\n",
      "[CV 1/1] END .......................max_depth=7;, score=0.061 total time=   0.1s\n"
     ]
    },
    {
     "data": {
      "text/plain": [
       "0.11664703063072346"
      ]
     },
     "execution_count": 15,
     "metadata": {},
     "output_type": "execute_result"
    }
   ],
   "source": [
    "from sklearn.model_selection import train_test_split, ShuffleSplit\n",
    "\n",
    "X_train, X_test, y_train, y_test = train_test_split(X, y, random_state=1)\n",
    "\n",
    "param_grid = {'max_depth': max_depth}\n",
    "single_split_cv = ShuffleSplit(n_splits=1, test_size=0.2)\n",
    "\n",
    "grid = GridSearchCV(DecisionTreeRegressor(), param_grid=param_grid, cv=single_split_cv, verbose=3)\n",
    "\n",
    "grid.fit(X_train, y_train)\n",
    "grid.score(X_test, y_test)"
   ]
  },
  {
   "cell_type": "code",
   "execution_count": 16,
   "metadata": {},
   "outputs": [
    {
     "data": {
      "text/plain": [
       "{'max_depth': 5}"
      ]
     },
     "execution_count": 16,
     "metadata": {},
     "output_type": "execute_result"
    }
   ],
   "source": [
    "grid.best_params_"
   ]
  },
  {
   "cell_type": "markdown",
   "metadata": {},
   "source": [
    "This is much faster, but it might result in worse hyperparameters and therefore worse results as the error estimate on left-out data will have much more variance. In other words you're more likely to be unlucky!"
   ]
  },
  {
   "cell_type": "markdown",
   "metadata": {},
   "source": [
    "<div class=\"alert alert-success\">\n",
    "    <b>EXERCISE</b>:\n",
    "     <ul>\n",
    "      <li>\n",
    "      Apply grid-search to find the best learning_rate and number of tree in a HistGradientBoostingRegressor.\n",
    "      </li>\n",
    "    </ul>\n",
    "</div>\n",
    "\n",
    "Solution is in: `solutions/03-gbdt_grid_search_cv.py`"
   ]
  },
  {
   "cell_type": "code",
   "execution_count": 20,
   "metadata": {},
   "outputs": [
    {
     "name": "stdout",
     "output_type": "stream",
     "text": [
      "Fitting 1 folds for each of 9 candidates, totalling 9 fits\n",
      "[CV 1/1] END ...learning_rate=0.01, max_iter=50;, score=0.122 total time=   0.8s\n",
      "[CV 1/1] END ..learning_rate=0.01, max_iter=100;, score=0.174 total time=   1.4s\n",
      "[CV 1/1] END ..learning_rate=0.01, max_iter=200;, score=0.210 total time=   2.1s\n",
      "[CV 1/1] END ....learning_rate=0.1, max_iter=50;, score=0.203 total time=   0.6s\n",
      "[CV 1/1] END ...learning_rate=0.1, max_iter=100;, score=0.187 total time=   1.2s\n",
      "[CV 1/1] END ...learning_rate=0.1, max_iter=200;, score=0.169 total time=   1.9s\n",
      "[CV 1/1] END ...learning_rate=0.05, max_iter=50;, score=0.206 total time=   0.7s\n",
      "[CV 1/1] END ..learning_rate=0.05, max_iter=100;, score=0.202 total time=   1.5s\n",
      "[CV 1/1] END ..learning_rate=0.05, max_iter=200;, score=0.190 total time=   2.4s\n",
      "{'learning_rate': 0.01, 'max_iter': 200}\n"
     ]
    },
    {
     "data": {
      "text/html": [
       "<div>\n",
       "<style scoped>\n",
       "    .dataframe tbody tr th:only-of-type {\n",
       "        vertical-align: middle;\n",
       "    }\n",
       "\n",
       "    .dataframe tbody tr th {\n",
       "        vertical-align: top;\n",
       "    }\n",
       "\n",
       "    .dataframe thead th {\n",
       "        text-align: right;\n",
       "    }\n",
       "</style>\n",
       "<table border=\"1\" class=\"dataframe\">\n",
       "  <thead>\n",
       "    <tr style=\"text-align: right;\">\n",
       "      <th></th>\n",
       "      <th>mean_fit_time</th>\n",
       "      <th>std_fit_time</th>\n",
       "      <th>mean_score_time</th>\n",
       "      <th>std_score_time</th>\n",
       "      <th>param_learning_rate</th>\n",
       "      <th>param_max_iter</th>\n",
       "      <th>params</th>\n",
       "      <th>split0_test_score</th>\n",
       "      <th>mean_test_score</th>\n",
       "      <th>std_test_score</th>\n",
       "      <th>rank_test_score</th>\n",
       "    </tr>\n",
       "  </thead>\n",
       "  <tbody>\n",
       "    <tr>\n",
       "      <th>2</th>\n",
       "      <td>2.086115</td>\n",
       "      <td>0.0</td>\n",
       "      <td>0.009676</td>\n",
       "      <td>0.0</td>\n",
       "      <td>0.01</td>\n",
       "      <td>200</td>\n",
       "      <td>{'learning_rate': 0.01, 'max_iter': 200}</td>\n",
       "      <td>0.210235</td>\n",
       "      <td>0.210235</td>\n",
       "      <td>0.0</td>\n",
       "      <td>1</td>\n",
       "    </tr>\n",
       "    <tr>\n",
       "      <th>6</th>\n",
       "      <td>0.741424</td>\n",
       "      <td>0.0</td>\n",
       "      <td>0.005699</td>\n",
       "      <td>0.0</td>\n",
       "      <td>0.05</td>\n",
       "      <td>50</td>\n",
       "      <td>{'learning_rate': 0.05, 'max_iter': 50}</td>\n",
       "      <td>0.205925</td>\n",
       "      <td>0.205925</td>\n",
       "      <td>0.0</td>\n",
       "      <td>2</td>\n",
       "    </tr>\n",
       "    <tr>\n",
       "      <th>3</th>\n",
       "      <td>0.549991</td>\n",
       "      <td>0.0</td>\n",
       "      <td>0.002924</td>\n",
       "      <td>0.0</td>\n",
       "      <td>0.1</td>\n",
       "      <td>50</td>\n",
       "      <td>{'learning_rate': 0.1, 'max_iter': 50}</td>\n",
       "      <td>0.203354</td>\n",
       "      <td>0.203354</td>\n",
       "      <td>0.0</td>\n",
       "      <td>3</td>\n",
       "    </tr>\n",
       "    <tr>\n",
       "      <th>7</th>\n",
       "      <td>1.534644</td>\n",
       "      <td>0.0</td>\n",
       "      <td>0.014069</td>\n",
       "      <td>0.0</td>\n",
       "      <td>0.05</td>\n",
       "      <td>100</td>\n",
       "      <td>{'learning_rate': 0.05, 'max_iter': 100}</td>\n",
       "      <td>0.201969</td>\n",
       "      <td>0.201969</td>\n",
       "      <td>0.0</td>\n",
       "      <td>4</td>\n",
       "    </tr>\n",
       "    <tr>\n",
       "      <th>8</th>\n",
       "      <td>2.357607</td>\n",
       "      <td>0.0</td>\n",
       "      <td>0.010745</td>\n",
       "      <td>0.0</td>\n",
       "      <td>0.05</td>\n",
       "      <td>200</td>\n",
       "      <td>{'learning_rate': 0.05, 'max_iter': 200}</td>\n",
       "      <td>0.190036</td>\n",
       "      <td>0.190036</td>\n",
       "      <td>0.0</td>\n",
       "      <td>5</td>\n",
       "    </tr>\n",
       "  </tbody>\n",
       "</table>\n",
       "</div>"
      ],
      "text/plain": [
       "   mean_fit_time  std_fit_time  mean_score_time  std_score_time  \\\n",
       "2       2.086115           0.0         0.009676             0.0   \n",
       "6       0.741424           0.0         0.005699             0.0   \n",
       "3       0.549991           0.0         0.002924             0.0   \n",
       "7       1.534644           0.0         0.014069             0.0   \n",
       "8       2.357607           0.0         0.010745             0.0   \n",
       "\n",
       "  param_learning_rate param_max_iter  \\\n",
       "2                0.01            200   \n",
       "6                0.05             50   \n",
       "3                 0.1             50   \n",
       "7                0.05            100   \n",
       "8                0.05            200   \n",
       "\n",
       "                                     params  split0_test_score  \\\n",
       "2  {'learning_rate': 0.01, 'max_iter': 200}           0.210235   \n",
       "6   {'learning_rate': 0.05, 'max_iter': 50}           0.205925   \n",
       "3    {'learning_rate': 0.1, 'max_iter': 50}           0.203354   \n",
       "7  {'learning_rate': 0.05, 'max_iter': 100}           0.201969   \n",
       "8  {'learning_rate': 0.05, 'max_iter': 200}           0.190036   \n",
       "\n",
       "   mean_test_score  std_test_score  rank_test_score  \n",
       "2         0.210235             0.0                1  \n",
       "6         0.205925             0.0                2  \n",
       "3         0.203354             0.0                3  \n",
       "7         0.201969             0.0                4  \n",
       "8         0.190036             0.0                5  "
      ]
     },
     "execution_count": 20,
     "metadata": {},
     "output_type": "execute_result"
    }
   ],
   "source": [
    "from sklearn.ensemble import HistGradientBoostingRegressor\n",
    "\n",
    "param_grid = {\n",
    "    \"max_iter\" : [50, 100, 200],\n",
    "    \"learning_rate\": [0.01, 0.1, 0.05]\n",
    "}\n",
    "\n",
    "grid = GridSearchCV(HistGradientBoostingRegressor(random_state=42),\n",
    "                    param_grid=param_grid,\n",
    "                    cv=single_split_cv, verbose=3)\n",
    "\n",
    "grid.fit(X_train, y_train)\n",
    "grid.score(X_test, y_test)\n",
    "\n",
    "print(grid.best_params_)\n",
    "\n",
    "cv_results = pd.DataFrame(grid.cv_results_)\n",
    "cv_results.sort_values(by='mean_test_score', ascending=False).head()"
   ]
  },
  {
   "cell_type": "markdown",
   "metadata": {},
   "source": [
    "## Guided hyper-optimization"
   ]
  },
  {
   "cell_type": "markdown",
   "metadata": {},
   "source": [
    "Hyper-optimization of parameters was done up to now by giving some values to be tried. Usually, we could automatically generated those values (randomly or not) by using `RandomSearchCV` or `GridSearchCV`.\n",
    "\n",
    "We could do a little be better by trying some parameters which we could consider more probable to optimize our problem depending on the previous parameters which we used before.\n",
    "\n",
    "We will use `optuna` to do so.\n",
    "\n",
    "\n",
    "URL : https://pypi.org/project/optuna/\n",
    "\n",
    "See video : https://www.youtube.com/watch?v=J_aymk4YXhg"
   ]
  },
  {
   "cell_type": "code",
   "execution_count": 25,
   "metadata": {},
   "outputs": [
    {
     "name": "stdout",
     "output_type": "stream",
     "text": [
      "{'max_depth': 14, 'learning_rate': 0.007825069006198861, 'l2_regularization': 0.7914644997487393, 'min_samples_leaf': 30, 'max_iter': 638}\n",
      "0.23718578467811358\n"
     ]
    }
   ],
   "source": [
    "import optuna\n",
    "from optuna import samplers\n",
    "\n",
    "\n",
    "def objective(trial):\n",
    "    max_depth = trial.suggest_int('max_depth', 2, 32)\n",
    "    learning_rate = trial.suggest_loguniform('learning_rate', 10**-5, 10**0)\n",
    "    l2_regularization = trial.suggest_loguniform('l2_regularization', 10**-5, 10**0)\n",
    "    min_samples_leaf = trial.suggest_int('min_samples_leaf', 1, 100)\n",
    "    max_iter = trial.suggest_int('max_iter', 10, 1000)\n",
    "\n",
    "    reg = HistGradientBoostingRegressor(\n",
    "        **trial.params, random_state=42,\n",
    "    )\n",
    "\n",
    "    return np.mean(cross_val_score(reg, X_train, y_train, cv=5, n_jobs=-1, scoring=\"r2\"))\n",
    "\n",
    "sampler = samplers.TPESampler(seed=10)\n",
    "study = optuna.create_study(sampler=sampler, direction='maximize')\n",
    "optuna.logging.disable_default_handler()  # limit verbosity\n",
    "study.optimize(objective, n_trials=100)\n",
    "\n",
    "# Show best result\n",
    "print(study.best_trial.params)\n",
    "print(study.best_trial.value)"
   ]
  },
  {
   "cell_type": "code",
   "execution_count": 26,
   "metadata": {},
   "outputs": [
    {
     "data": {
      "text/plain": [
       "[<matplotlib.lines.Line2D at 0x7fa909220a30>]"
      ]
     },
     "execution_count": 26,
     "metadata": {},
     "output_type": "execute_result"
    },
    {
     "data": {
      "image/png": "[encoded data removed]",
      "text/plain": [
       "<Figure size 432x288 with 1 Axes>"
      ]
     },
     "metadata": {
      "needs_background": "light"
     },
     "output_type": "display_data"
    }
   ],
   "source": [
    "values = [t.value for t in study.trials]\n",
    "plt.plot(values)"
   ]
  },
  {
   "cell_type": "code",
   "execution_count": 27,
   "metadata": {},
   "outputs": [
    {
     "data": {
      "text/plain": [
       "Text(0, 0.5, 'R2')"
      ]
     },
     "execution_count": 27,
     "metadata": {},
     "output_type": "execute_result"
    },
    {
     "data": {
      "image/png": "[encoded data removed]",
      "text/plain": [
       "<Figure size 432x288 with 1 Axes>"
      ]
     },
     "metadata": {
      "needs_background": "light"
     },
     "output_type": "display_data"
    }
   ],
   "source": [
    "values = [t.value for t in study.trials]\n",
    "values = [np.max(values[:k]) for k in range(1, len(values))]\n",
    "plt.plot(values)\n",
    "plt.xlabel('Trials')\n",
    "plt.ylabel('R2')"
   ]
  },
  {
   "cell_type": "code",
   "execution_count": 24,
   "metadata": {},
   "outputs": [
    {
     "data": {
      "text/plain": [
       "0.22208064659588678"
      ]
     },
     "execution_count": 24,
     "metadata": {},
     "output_type": "execute_result"
    }
   ],
   "source": [
    "reg = HistGradientBoostingRegressor(random_state=42)\n",
    "reg.set_params(**study.best_trial.params)\n",
    "reg.fit(X_train, y_train)\n",
    "reg.score(X_test, y_test)"
   ]
  },
  {
   "cell_type": "markdown",
   "metadata": {},
   "source": [
    "<div class=\"alert alert-success\">\n",
    "    <b>EXERCISE</b>:\n",
    "     <ul>\n",
    "      <li>\n",
    "      How would you avoid optimizing the <code>max_iter</code> parameter?\n",
    "      </li>\n",
    "    </ul>\n",
    "</div>\n",
    "\n",
    "Solution is in `solutions/03-gbdt_optuna.py`"
   ]
  },
  {
   "cell_type": "code",
   "execution_count": null,
   "metadata": {},
   "outputs": [],
   "source": []
  },
  {
   "cell_type": "markdown",
   "metadata": {},
   "source": [
    "To learn more please have a look at the doc of optuna. In particular:\n",
    "\n",
    "https://optuna.readthedocs.io/en/stable/reference/generated/optuna.study.Study.html#optuna.study.Study.optimize"
   ]
  }
 ],
 "metadata": {
  "anaconda-cloud": {},
  "kernelspec": {
   "display_name": "Python 3",
   "language": "python",
   "name": "python3"
  },
  "language_info": {
   "codemirror_mode": {
    "name": "ipython",
    "version": 3
   },
   "file_extension": ".py",
   "mimetype": "text/x-python",
   "name": "python",
   "nbconvert_exporter": "python",
   "pygments_lexer": "ipython3",
   "version": "3.8.6"
  }
 },
 "nbformat": 4,
 "nbformat_minor": 4
}
